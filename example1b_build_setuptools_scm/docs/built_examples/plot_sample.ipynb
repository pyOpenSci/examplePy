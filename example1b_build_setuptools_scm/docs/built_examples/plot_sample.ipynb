{
  "cells": [
    {
      "cell_type": "code",
      "execution_count": null,
      "metadata": {
        "collapsed": false
      },
      "outputs": [],
      "source": [
        "%matplotlib inline"
      ]
    },
    {
      "cell_type": "markdown",
      "metadata": {},
      "source": [
        "\n# Matplotlib example\n\nThis is taken from the sphinx gallery documentation :)\n"
      ]
    },
    {
      "cell_type": "code",
      "execution_count": null,
      "metadata": {
        "collapsed": false
      },
      "outputs": [],
      "source": [
        "from __future__ import division, absolute_import, print_function\n\n\nimport numpy as np\nimport matplotlib.pyplot as plt\n\n# Enforce the use of default set style\n\n# Create data\nx = np.array([3,5,2,4])\ny = np.arange(4)\n\n# Plot the average over replicates\nf, ax = plt.subplots()\nax.plot(x, y)\nax.set_yticks([0,1,2,3])\nax.set_yticklabels(['A','B','C','D'])\nplt.show()"
      ]
    }
  ],
  "metadata": {
    "kernelspec": {
      "display_name": "Python 3",
      "language": "python",
      "name": "python3"
    },
    "language_info": {
      "codemirror_mode": {
        "name": "ipython",
        "version": 3
      },
      "file_extension": ".py",
      "mimetype": "text/x-python",
      "name": "python",
      "nbconvert_exporter": "python",
      "pygments_lexer": "ipython3",
      "version": "3.9.13"
    }
  },
  "nbformat": 4,
  "nbformat_minor": 0
}