{
  "cells": [
    {
      "cell_type": "code",
      "execution_count": null,
      "metadata": {
        "collapsed": false
      },
      "outputs": [],
      "source": [
        "%matplotlib inline"
      ]
    },
    {
      "attachments": {},
      "cell_type": "markdown",
      "metadata": {},
      "source": [
        "\n",
        "# nbsphinx Seaborn example\n",
        "\n",
        "This example demonstrates a Seaborn plot. Figures produced Matplotlib **and**\n",
        "by any package that is based on Matplotlib (e.g., Seaborn), will be\n",
        "captured by default. See `image_scrapers` for details.\n",
        "\n",
        "This is taken from the sphinx gallery documentation :)\n"
      ]
    },
    {
      "cell_type": "code",
      "execution_count": null,
      "metadata": {
        "collapsed": false
      },
      "outputs": [],
      "source": [
        "# Author: Michael Waskom & Lucy Liu\n",
        "# License: BSD 3 clause\n",
        "\n",
        "from __future__ import division, absolute_import, print_function\n",
        "\n",
        "\n",
        "import numpy as np\n",
        "import seaborn as sns\n",
        "import matplotlib.pyplot as plt\n",
        "\n",
        "# Enforce the use of default set style\n",
        "\n",
        "# Create a noisy periodic dataset\n",
        "y_array = np.array([])\n",
        "x_array = np.array([])\n",
        "rs = np.random.RandomState(8)\n",
        "for _ in range(15):\n",
        "    x = np.linspace(0, 30 / 2, 30)\n",
        "    y = np.sin(x) + rs.normal(0, 1.5) + rs.normal(0, .3, 30)\n",
        "    y_array = np.append(y_array, y)\n",
        "    x_array = np.append(x_array, x)\n",
        "\n",
        "# Plot the average over replicates with confidence interval\n",
        "sns.lineplot(y=y_array, x=x_array)\n",
        "# to avoid text output\n",
        "plt.show()"
      ]
    }
  ],
  "metadata": {
    "kernelspec": {
      "display_name": "Python 3",
      "language": "python",
      "name": "python3"
    },
    "language_info": {
      "codemirror_mode": {
        "name": "ipython",
        "version": 3
      },
      "file_extension": ".py",
      "mimetype": "text/x-python",
      "name": "python",
      "nbconvert_exporter": "python",
      "pygments_lexer": "ipython3",
      "version": "3.10.6 (main, Aug 30 2022, 04:58:14) [Clang 13.1.6 (clang-1316.0.21.2.5)]"
    },
    "vscode": {
      "interpreter": {
        "hash": "b0fa6594d8f4cbf19f97940f81e996739fb7646882a419484c72d19e05852a7e"
      }
    }
  },
  "nbformat": 4,
  "nbformat_minor": 0
}
